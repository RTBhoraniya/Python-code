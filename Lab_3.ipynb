{
 "cells": [
  {
   "cell_type": "markdown",
   "id": "64d72bb3-3d0e-44a9-8904-fd8b7116d302",
   "metadata": {},
   "source": [
    "# (1) wap to print 1 to n using for and while loop"
   ]
  },
  {
   "cell_type": "markdown",
   "id": "3f5818c1-ae0e-48af-9bb7-60cd22aeb7d1",
   "metadata": {},
   "source": [
    "# -> using for loop"
   ]
  },
  {
   "cell_type": "code",
   "execution_count": 2,
   "id": "3fe25c43-264a-4990-a446-a19722ecb805",
   "metadata": {},
   "outputs": [
    {
     "name": "stdin",
     "output_type": "stream",
     "text": [
      "enter any number:- 5\n"
     ]
    },
    {
     "name": "stdout",
     "output_type": "stream",
     "text": [
      "1\n",
      "2\n",
      "3\n",
      "4\n",
      "5\n"
     ]
    }
   ],
   "source": [
    "n=int(input(\"enter any number:-\"))\n",
    "for i in range(1,n+1,1):\n",
    "    print(i)\n"
   ]
  },
  {
   "cell_type": "markdown",
   "id": "6f8e24b3-c758-40cb-8ee1-e0eb86403bd0",
   "metadata": {},
   "source": [
    "# -> using while loop"
   ]
  },
  {
   "cell_type": "code",
   "execution_count": 1,
   "id": "1ed29e0f-fbb5-4b06-95ae-a6256e40fde7",
   "metadata": {},
   "outputs": [
    {
     "name": "stdin",
     "output_type": "stream",
     "text": [
      "enter number: 5\n"
     ]
    },
    {
     "name": "stdout",
     "output_type": "stream",
     "text": [
      "1\n",
      "2\n",
      "3\n",
      "4\n",
      "5\n"
     ]
    }
   ],
   "source": [
    "n=int(input(\"enter number:\"))\n",
    "i=1\n",
    "while i<=n:\n",
    "    print(i)\n",
    "    i+=1"
   ]
  },
  {
   "cell_type": "markdown",
   "id": "458c8b30-ac62-4202-b66d-7d18a9c47f2c",
   "metadata": {},
   "source": [
    "# (2) wap to print sum of 1 to n number using for and while loop"
   ]
  },
  {
   "cell_type": "markdown",
   "id": "433739df-2c06-40a2-9b62-3b78fa06dde8",
   "metadata": {},
   "source": [
    "# -> using for loop "
   ]
  },
  {
   "cell_type": "code",
   "execution_count": 2,
   "id": "752f382b-6186-47ad-a994-7ffed6b7692e",
   "metadata": {},
   "outputs": [
    {
     "name": "stdin",
     "output_type": "stream",
     "text": [
      "enter any number: 5\n"
     ]
    },
    {
     "name": "stdout",
     "output_type": "stream",
     "text": [
      "15\n"
     ]
    }
   ],
   "source": [
    "n=int(input(\"enter any number:\"))\n",
    "ans=0\n",
    "for i in range(1,n+1,1):\n",
    "    ans=ans+i\n",
    "print(ans)"
   ]
  },
  {
   "cell_type": "markdown",
   "id": "4496fb07-3591-441f-a6e4-c622c8629ca5",
   "metadata": {},
   "source": [
    "# -> using while loop"
   ]
  },
  {
   "cell_type": "code",
   "execution_count": 4,
   "id": "96cff4f3-1377-40e2-aa67-534a882c7dcb",
   "metadata": {},
   "outputs": [
    {
     "name": "stdin",
     "output_type": "stream",
     "text": [
      "enter any number: 5\n"
     ]
    },
    {
     "name": "stdout",
     "output_type": "stream",
     "text": [
      "15\n"
     ]
    }
   ],
   "source": [
    "n=int(input(\"enter any number:\"))\n",
    "ans=0\n",
    "i=1\n",
    "while i<=n:\n",
    "    ans=ans+i\n",
    "    i=i+1\n",
    "print(ans)"
   ]
  },
  {
   "cell_type": "markdown",
   "id": "592db07d-168b-4269-9c5d-700a78c56f15",
   "metadata": {},
   "source": [
    "# (3) wap to find factorial of given number"
   ]
  },
  {
   "cell_type": "code",
   "execution_count": 5,
   "id": "1d58727f-a78c-4310-87c4-81716dcdd76f",
   "metadata": {},
   "outputs": [
    {
     "name": "stdin",
     "output_type": "stream",
     "text": [
      "enter any number: 5\n"
     ]
    },
    {
     "name": "stdout",
     "output_type": "stream",
     "text": [
      "120\n"
     ]
    }
   ],
   "source": [
    "n=int(input(\"enter any number:\"))\n",
    "fact=1\n",
    "for i in range(1,n+1):\n",
    "    fact=fact*i\n",
    "print(fact)"
   ]
  },
  {
   "cell_type": "markdown",
   "id": "bf254e54-8184-4907-8383-33aba42f60f4",
   "metadata": {},
   "source": [
    "# (4) wap to print even number between given two number"
   ]
  },
  {
   "cell_type": "code",
   "execution_count": 8,
   "id": "50f90f2e-ed2b-486c-a709-73976035c1ad",
   "metadata": {},
   "outputs": [
    {
     "name": "stdin",
     "output_type": "stream",
     "text": [
      "enter any number: 10\n",
      "enter any number: 20\n"
     ]
    },
    {
     "name": "stdout",
     "output_type": "stream",
     "text": [
      "10\n",
      "12\n",
      "14\n",
      "16\n",
      "18\n",
      "20\n"
     ]
    }
   ],
   "source": [
    "n1=int(input(\"enter any number:\"))\n",
    "n2=int(input(\"enter any number:\"))\n",
    "for i in range(n1,n2+1,1):\n",
    "    if(i%2==0):\n",
    "        print(i)"
   ]
  },
  {
   "cell_type": "markdown",
   "id": "f9b75ba8-9c13-459c-8438-7ebd1d34081b",
   "metadata": {},
   "source": [
    "# (5) wap to find whether given number is prime of not (using for .. else)"
   ]
  },
  {
   "cell_type": "code",
   "execution_count": 10,
   "id": "cbc0d3ee-399c-431b-9f6c-71bc0e7b2dcb",
   "metadata": {},
   "outputs": [
    {
     "name": "stdin",
     "output_type": "stream",
     "text": [
      "enter any number: 6\n"
     ]
    },
    {
     "name": "stdout",
     "output_type": "stream",
     "text": [
      "not prime\n"
     ]
    }
   ],
   "source": [
    "n=int(input(\"enter any number:\"))\n",
    "for i in range(2,n):\n",
    "    if(n%i==0):\n",
    "        print(\"not prime\")\n",
    "        break\n",
    "else:\n",
    "    print(\"prime\")\n",
    "    "
   ]
  },
  {
   "cell_type": "markdown",
   "id": "ecf1530e-c6c8-4ee2-9450-bbed06c05aed",
   "metadata": {},
   "source": [
    "# (6) wap to print sum of digit of the given number"
   ]
  },
  {
   "cell_type": "code",
   "execution_count": 12,
   "id": "524e7660-deda-451d-a230-3e9f0f130f26",
   "metadata": {},
   "outputs": [
    {
     "name": "stdin",
     "output_type": "stream",
     "text": [
      "enter any number: 23\n"
     ]
    },
    {
     "name": "stdout",
     "output_type": "stream",
     "text": [
      "5\n"
     ]
    }
   ],
   "source": [
    "n=int(input(\"enter any number:\"))\n",
    "ans=0\n",
    "sum=0\n",
    "while n>0:\n",
    "    ans=n%10\n",
    "    sum=sum+ans\n",
    "    n=n//10\n",
    "print(sum)\n",
    "    "
   ]
  },
  {
   "cell_type": "markdown",
   "id": "31054edd-5ff9-4141-a936-d32dd648c705",
   "metadata": {},
   "source": [
    "# (7) wap to print multiplication table of the given number"
   ]
  },
  {
   "cell_type": "code",
   "execution_count": 13,
   "id": "a3bcaabd-4daf-486e-b83e-86bd68794de4",
   "metadata": {},
   "outputs": [
    {
     "name": "stdin",
     "output_type": "stream",
     "text": [
      "enter any number 5\n"
     ]
    },
    {
     "name": "stdout",
     "output_type": "stream",
     "text": [
      "5 * 1 = 5\n",
      "5 * 2 = 10\n",
      "5 * 3 = 15\n",
      "5 * 4 = 20\n",
      "5 * 5 = 25\n",
      "5 * 6 = 30\n",
      "5 * 7 = 35\n",
      "5 * 8 = 40\n",
      "5 * 9 = 45\n",
      "5 * 10 = 50\n"
     ]
    }
   ],
   "source": [
    "n=int(input(\"enter any number\"))\n",
    "for i in range(1,11):\n",
    "    print(n,\"*\",i,\"=\",n*i)"
   ]
  },
  {
   "cell_type": "markdown",
   "id": "dd4bac95-f32e-4eaf-b3b8-5ffc8326f26a",
   "metadata": {},
   "source": [
    "# (8) wap to print sum of seris for given number\n",
    "# 1+4+9+16...."
   ]
  },
  {
   "cell_type": "code",
   "execution_count": 2,
   "id": "407abcd7-f7e2-451a-90ab-847c96340786",
   "metadata": {},
   "outputs": [
    {
     "name": "stdin",
     "output_type": "stream",
     "text": [
      "enter any number 2\n"
     ]
    },
    {
     "name": "stdout",
     "output_type": "stream",
     "text": [
      "5\n"
     ]
    }
   ],
   "source": [
    "n=int(input(\"enter any number\"))\n",
    "sum=0\n",
    "for i in range(1,n+1):\n",
    "    sum=sum+i**2\n",
    "print(sum)"
   ]
  },
  {
   "cell_type": "markdown",
   "id": "d80e4180-4ff2-4e10-baf9-ad9453e6cdd8",
   "metadata": {},
   "source": [
    "# (9) wap to print answer of series for given number"
   ]
  },
  {
   "cell_type": "code",
   "execution_count": 15,
   "id": "c62fe558-aa6a-4eb9-9db9-d265bf2128fb",
   "metadata": {},
   "outputs": [
    {
     "name": "stdin",
     "output_type": "stream",
     "text": [
      "enter any number 5\n"
     ]
    },
    {
     "name": "stdout",
     "output_type": "stream",
     "text": [
      "3\n"
     ]
    }
   ],
   "source": [
    "n=int(input(\"enter any number\"))\n",
    "sum=0\n",
    "for i in range(1,n+1):\n",
    "    if i%2==0:\n",
    "        sum=sum-i\n",
    "    else:\n",
    "        sum=sum+i\n",
    "print(sum)"
   ]
  },
  {
   "cell_type": "markdown",
   "id": "6b7861ea-d23b-47aa-b798-e515d9e352fd",
   "metadata": {},
   "source": [
    "# (10) wap to find out prime between given two number"
   ]
  },
  {
   "cell_type": "code",
   "execution_count": 1,
   "id": "67354682-2c48-44c6-a1b7-d44efab8a0d3",
   "metadata": {},
   "outputs": [
    {
     "name": "stdin",
     "output_type": "stream",
     "text": [
      "enter any number: 5\n",
      "enter any number: 15\n"
     ]
    },
    {
     "name": "stdout",
     "output_type": "stream",
     "text": [
      "Not Prime\n",
      "Prime\n"
     ]
    }
   ],
   "source": [
    "n1=int(input(\"enter any number:\"))\n",
    "n2=int(input(\"enter any number:\"))\n",
    "for i in range(n1,n2):\n",
    "    if n2%i==0:\n",
    "        print(\"Not Prime\")\n",
    "else:\n",
    "    print(\"Prime\")"
   ]
  },
  {
   "cell_type": "code",
   "execution_count": null,
   "id": "59b0eb09-03ff-434e-8334-8988fd126cfb",
   "metadata": {},
   "outputs": [],
   "source": []
  }
 ],
 "metadata": {
  "kernelspec": {
   "display_name": "Python 3 (ipykernel)",
   "language": "python",
   "name": "python3"
  },
  "language_info": {
   "codemirror_mode": {
    "name": "ipython",
    "version": 3
   },
   "file_extension": ".py",
   "mimetype": "text/x-python",
   "name": "python",
   "nbconvert_exporter": "python",
   "pygments_lexer": "ipython3",
   "version": "3.13.1"
  }
 },
 "nbformat": 4,
 "nbformat_minor": 5
}
